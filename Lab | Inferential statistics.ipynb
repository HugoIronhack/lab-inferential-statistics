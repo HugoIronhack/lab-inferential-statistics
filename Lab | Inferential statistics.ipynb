{
 "cells": [
  {
   "cell_type": "markdown",
   "id": "8ef66341",
   "metadata": {},
   "source": [
    "# Instructions\n",
    "## It is assumed that the mean systolic blood pressure is μ = 120 mm Hg. In the Honolulu Heart Study, \n",
    "## a sample of n = 100 people had an average systolic blood pressure of 130.1 mm Hg with a standard deviation of \n",
    "## 21.21 mm Hg. Is the group significantly different (with respect to systolic blood pressure!) from \n",
    "## the regular population?\n",
    "## Set up the hypothesis test.\n",
    "## Write down all the steps followed for setting up the test.\n",
    "## Calculate the test statistic by hand and also code it in Python. It should be 4.76190. We will take a look at\n",
    "## how to make decisions based on this calculated value.\n"
   ]
  },
  {
   "cell_type": "code",
   "execution_count": 2,
   "id": "9bf85d3d",
   "metadata": {},
   "outputs": [],
   "source": [
    "# 1 step: Make the hypotheses:\n",
    "\n",
    "# Null hypothesis (H0): The group's systolic blood pressure is not significantly different from the regular population. μ = 120 mm Hg.\n",
    "# Alternative hypothesis (H1): The group's systolic blood pressure is significantly different from the regular population. μ ≠ 120 mm Hg.\n",
    "\n",
    "\n",
    "\n",
    "# 2nd step: Determine the significance level (α):\n",
    "\n",
    "# Choose a significance level (α) to define the threshold for rejecting the null hypothesis. We pick α = 0.05 (5%).\n",
    "\n",
    "\n",
    "# 3rd step: Select the test statistic:\n",
    "\n",
    "# The population standard deviation is unknown, so we can use the t-distribution and perform a one-sample t-test.\n",
    "\n",
    "# Step 4: Calculate the test statistic:\n",
    "\n",
    "# The test statistic for a one-sample t-test is calculated using the formula:\n",
    "# t = (x̄ - μ) / (s / √n)\n",
    "#  x̄ is the sample mean, μ is the population mean under the null hypothesis, s is the sample \n",
    "## standard deviation, and n is the sample size.\n",
    "# Plugging in the values from the problem, we have:\n",
    "# x̄ = 130.1 mm Hg\n",
    "# μ = 120 mm Hg\n",
    "# s = 21.21 mm Hg\n",
    "# n = 100\n",
    "# Calculating the test statistic:\n",
    "# t = (130.1 - 120) / (21.21 / √100)\n",
    "# = 4.76190\n",
    "\n",
    "# Step 5: Determine the critical value:\n",
    "\n",
    "# The critical value depends on the chosen significance level (α) and the degrees of freedom (df).\n",
    "# For a two-tailed test with α = 0.05 and df = n - 1 = 99, the critical values are ±1.984 (using a t-table or t-distribution calculator).\n",
    "\n",
    "# Step 6: Make a decision:\n",
    "\n",
    "# If the absolute value of the test statistic is greater than the critical value, we reject the null hypothesis.\n",
    "# In this case, |4.76190| > 1.984, so we reject the null hypothesis.\n"
   ]
  },
  {
   "cell_type": "code",
   "execution_count": 3,
   "id": "09568964",
   "metadata": {},
   "outputs": [
    {
     "name": "stdout",
     "output_type": "stream",
     "text": [
      "Test Statistic: 4.761904761904759\n"
     ]
    }
   ],
   "source": [
    "import math\n",
    "\n",
    "# Given values\n",
    "x_bar = 130.1  # Sample mean\n",
    "mu = 120  # Population mean under the null hypothesis\n",
    "s = 21.21  # Sample standard deviation\n",
    "n = 100  # Sample size\n",
    "\n",
    "# Calculate the test statistic\n",
    "t = (x_bar - mu) / (s / math.sqrt(n))\n",
    "\n",
    "# Print the test statistic\n",
    "print(f\"Test Statistic: {t}\")\n"
   ]
  },
  {
   "cell_type": "code",
   "execution_count": null,
   "id": "10555e0d",
   "metadata": {},
   "outputs": [],
   "source": []
  }
 ],
 "metadata": {
  "kernelspec": {
   "display_name": "Python 3 (ipykernel)",
   "language": "python",
   "name": "python3"
  },
  "language_info": {
   "codemirror_mode": {
    "name": "ipython",
    "version": 3
   },
   "file_extension": ".py",
   "mimetype": "text/x-python",
   "name": "python",
   "nbconvert_exporter": "python",
   "pygments_lexer": "ipython3",
   "version": "3.9.13"
  }
 },
 "nbformat": 4,
 "nbformat_minor": 5
}
